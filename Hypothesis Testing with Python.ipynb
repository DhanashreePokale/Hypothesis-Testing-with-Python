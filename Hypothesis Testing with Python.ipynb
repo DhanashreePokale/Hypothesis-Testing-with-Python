{
 "cells": [
  {
   "cell_type": "markdown",
   "metadata": {},
   "source": [
    "# Hypothesis Testing\n",
    "\n",
    "## Main question we are trying to answer is \"Is this difference real?\" but converted to a\n",
    "statistical question - \"What is probability that difference I am\n",
    "observing is by chance?\"\n",
    "\n",
    "### Goal: \n",
    "#### reject the null hypothesis when the two populations being compared are identical and the differences observed are due to chance. We reject the null hypothesis by proving that what we observed is unlikely. We do that by calculating the p-value (using a hypothesis test). We generally want p < 0.05 (i.e., there’s only a 5% chance that two identical distributions could have produced these results)"
   ]
  },
  {
   "cell_type": "code",
   "execution_count": null,
   "metadata": {
    "collapsed": true
   },
   "outputs": [],
   "source": []
  }
 ],
 "metadata": {
  "kernelspec": {
   "display_name": "Python 3",
   "language": "python",
   "name": "python3"
  },
  "language_info": {
   "codemirror_mode": {
    "name": "ipython",
    "version": 3
   },
   "file_extension": ".py",
   "mimetype": "text/x-python",
   "name": "python",
   "nbconvert_exporter": "python",
   "pygments_lexer": "ipython3",
   "version": "3.6.0"
  }
 },
 "nbformat": 4,
 "nbformat_minor": 2
}
