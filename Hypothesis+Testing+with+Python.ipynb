{
 "cells": [
  {
   "cell_type": "markdown",
   "metadata": {},
   "source": [
    "# Hypothesis Testing - Numerical Datasets\n",
    "\n",
    "#### Main question we are trying to answer is \"Is this difference real?\" but converted to a statistical question - \"What is probability that difference I am observing is by chance?\"\n",
    "\n",
    "## Goal: \n",
    "#### Reject the null hypothesis when the two populations being compared are identical and the differences observed are due to chance. We reject the null hypothesis by proving that what we observed is unlikely. We do that by calculating the p-value (using a hypothesis test). We generally want p < 0.05 (i.e., there’s only a 5% chance that two identical distributions could have produced these results)\n",
    "\n",
    "## How to start:\n",
    "\n",
    "### First we should know answer to below two questions -\n",
    "* Is my data categorical or numerical?\n",
    "* How many samples am I comparing?\n",
    "\n",
    "### Use the below cheat sheet for the hypothesis testing -\n",
    "\n",
    "#####  Numerical Dat & Sample versus known quantity or target Comparison \n",
    "* 1 Sample T test\n",
    "\n",
    "##### Numerical Dat & 2 Samples Comparison \n",
    "* 2 Sample T test\n",
    "\n",
    "##### Numerical Dat & More than 2 samples Comparison \n",
    "* ANOVA or Tukey\n",
    "\n",
    "##### Categorical Dat & Sample versus known quantity or target Comparison \n",
    "* Binomial test\n",
    "\n",
    "##### Categorical Dat & 2 Samples Comparison  \n",
    "* Chi Square test\n",
    "\n",
    "##### Categorical Dat & More than 2 Samples Comparison  \n",
    "* Chi Square test"
   ]
  },
  {
   "cell_type": "markdown",
   "metadata": {},
   "source": [
    "## 1. 1 Sample T test"
   ]
  },
  {
   "cell_type": "markdown",
   "metadata": {},
   "source": [
    "#### When to Use?\n",
    "Use this when you are comparing against known target like a statistic from published paper or a target specified.\n",
    "\n",
    "#### What question does it answer?\n",
    "It compares a sample mean to a hypothetical population mean. It answers the question - What is the probability that a sample came from a distribution with a desired mean?"
   ]
  },
  {
   "cell_type": "code",
   "execution_count": 13,
   "metadata": {
    "collapsed": false
   },
   "outputs": [
    {
     "name": "stdout",
     "output_type": "stream",
     "text": [
      "     0\n",
      "0   32\n",
      "1   34\n",
      "2   29\n",
      "3   29\n",
      "4   22\n",
      "5   39\n",
      "6   38\n",
      "7   37\n",
      "8   38\n",
      "9   36\n",
      "10  30\n",
      "11  26\n",
      "12  22\n",
      "13  22\n"
     ]
    }
   ],
   "source": [
    "from scipy.stats import ttest_1samp\n",
    "import numpy as np\n",
    "import pandas as pd\n",
    "\n",
    "\n",
    "ages = np.array([32, 34,  29 , 29,  22 ,39 , 38,  37,  38,  36,  30,  26,  22,  22])\n",
    "#print(ages)\n",
    "#type(ages)\n",
    "ages = pd.DataFrame(ages)\n",
    "print(ages)"
   ]
  },
  {
   "cell_type": "code",
   "execution_count": 15,
   "metadata": {
    "collapsed": false
   },
   "outputs": [
    {
     "name": "stdout",
     "output_type": "stream",
     "text": [
      "0    31.0\n",
      "dtype: float64\n"
     ]
    }
   ],
   "source": [
    "ages_mean = np.mean(ages)\n",
    "print(ages_mean)"
   ]
  },
  {
   "cell_type": "markdown",
   "metadata": {},
   "source": [
    "We expect mean to be 30. Using 1 sample t test now we find the probability that this sample data distribution belongs to the distribution whose mean in 30. "
   ]
  },
  {
   "cell_type": "code",
   "execution_count": 17,
   "metadata": {
    "collapsed": false
   },
   "outputs": [
    {
     "name": "stdout",
     "output_type": "stream",
     "text": [
      "[ 0.56051559]\n"
     ]
    }
   ],
   "source": [
    "tstat, pval = ttest_1samp(ages,30)\n",
    "print(pval)"
   ]
  },
  {
   "cell_type": "markdown",
   "metadata": {},
   "source": [
    "There is a probability of 56% that this sample belongs to the distribution of population whose mean is 30. This percent is high so we cannot reject the null hypothesis that mean of population is 30. "
   ]
  },
  {
   "cell_type": "markdown",
   "metadata": {},
   "source": [
    "## 2. 2 Sample T test"
   ]
  },
  {
   "cell_type": "markdown",
   "metadata": {},
   "source": [
    "#### When to Use?\n",
    "Use this when you are comparing 2 samples with each other and both samples have normal distribution approximately. Use this when comparing two numerical distributions. Null hypothesis is that the two distributions have same mean.\n",
    "\n",
    "#### What question does it answer?\n",
    "It compares 1 sample mean to another sample's mean. It answers the question - What is the probability that both samples belong to same population?"
   ]
  },
  {
   "cell_type": "code",
   "execution_count": 28,
   "metadata": {
    "collapsed": false
   },
   "outputs": [],
   "source": [
    "import seaborn as sns\n",
    "import matplotlib.pyplot as plt\n",
    "sns.set(style=\"whitegrid\")"
   ]
  },
  {
   "cell_type": "markdown",
   "metadata": {},
   "source": [
    "* Important Note: Use seaborn and matplotlib to plot the sample datas. Before performing 2 sample t test, it is good idea to plot histograms of two samples over each other to visualize if the mean is same & to verify the normal distribution assumption of the t test. Other way would be to plot violin graph which is histogram plotted horizontally along with its mirror image. Below we can see dinner and lunch tips sample plotted besides each other. \n",
    "We see Dinner mean tip is higher than lunch mean tip. Now, we can perform hypothesis testing to check its significance. "
   ]
  },
  {
   "cell_type": "code",
   "execution_count": 29,
   "metadata": {
    "collapsed": false
   },
   "outputs": [
    {
     "data": {
      "image/png": "[encoded data removed]",
      "text/plain": [
       "<matplotlib.figure.Figure at 0x115938e10>"
      ]
     },
     "metadata": {},
     "output_type": "display_data"
    }
   ],
   "source": [
    "tips = sns.load_dataset(\"tips\")\n",
    "ax =  sns.violinplot(x=\"time\", y=\"tip\", data=tips, order=[\"Dinner\", \"Lunch\"])\n",
    "\n",
    "plt.show()"
   ]
  },
  {
   "cell_type": "code",
   "execution_count": 56,
   "metadata": {
    "collapsed": false
   },
   "outputs": [
    {
     "name": "stdout",
     "output_type": "stream",
     "text": [
      "3.102670454545454\n",
      "1.4321567589858604\n",
      "2.7280882352941176\n",
      "1.1964497203773352\n"
     ]
    }
   ],
   "source": [
    "D = tips[tips['time']==\"Dinner\"]\n",
    "L = tips[tips['time']==\"Lunch\"]\n",
    "D = D['tip']\n",
    "L = L['tip']\n",
    "D_mean = np.mean(D)\n",
    "L_mean = np.mean(L)\n",
    "D_std = np.std(D)\n",
    "L_std = np.std(L)\n",
    "print(D_mean)\n",
    "print(D_std)\n",
    "print(L_mean)\n",
    "print(L_std)"
   ]
  },
  {
   "cell_type": "code",
   "execution_count": 58,
   "metadata": {
    "collapsed": false
   },
   "outputs": [
    {
     "name": "stdout",
     "output_type": "stream",
     "text": [
      "0.0578015347517\n"
     ]
    }
   ],
   "source": [
    "from scipy.stats import ttest_ind\n",
    "tstat, pval = ttest_ind(D, L)\n",
    "print(pval)"
   ]
  },
  {
   "cell_type": "markdown",
   "metadata": {},
   "source": [
    "Lets use 95% confidence interval. \n",
    "Probability that two samples have same mean is 5.7% which is not in critical region of 0 to 5%. Hence we cannot reject the null hypothesis.  "
   ]
  },
  {
   "cell_type": "markdown",
   "metadata": {},
   "source": [
    "## 3. Multiple Sample Comparisons - ANOVA test"
   ]
  },
  {
   "cell_type": "markdown",
   "metadata": {},
   "source": [
    "#### When to Use?\n",
    "ANOVA compares more than 2 numerical datasets without increasing the probability of a false positive.\n",
    "In order to use ANOVA,\n",
    "1. The samples should be ~ normally distributed\n",
    "2. The standard deviations of the data should be somewhat similar\n",
    "3. The samples should be independent\n",
    "\n",
    "#### What question does it answer?\n",
    "It compares 1 sample mean to other multiple sample's mean. It answers the question - What is the probability that several samples belong to same population? \n",
    "This test will tell 1 of the distribution is different but not which distribution is different. To know which one is different we need another hypothesis test called Tukey's test."
   ]
  },
  {
   "cell_type": "code",
   "execution_count": 59,
   "metadata": {
    "collapsed": true
   },
   "outputs": [],
   "source": [
    "import scipy.stats as stats"
   ]
  },
  {
   "cell_type": "code",
   "execution_count": 76,
   "metadata": {
    "collapsed": false
   },
   "outputs": [],
   "source": [
    "tillamook = [0.0571, 0.0813, 0.0831, 0.0976, 0.0817, 0.0859, 0.0735, 0.0659, 0.0923, 0.0836]\n",
    "newport = [0.0873, 0.0662, 0.0672, 0.0819, 0.0749, 0.0649, 0.0835,0.0725]\n",
    "petersburg = [0.0974, 0.1352, 0.0817, 0.1016, 0.0968, 0.1064, 0.105]\n",
    "magadan = [0.1033, 0.0915, 0.0781, 0.0685, 0.0677, 0.0697, 0.0764,0.0689]\n",
    "tvarminne = [0.0703, 0.1026, 0.0956, 0.0973, 0.1039, 0.1045]\n"
   ]
  },
  {
   "cell_type": "code",
   "execution_count": 74,
   "metadata": {
    "collapsed": false
   },
   "outputs": [
    {
     "data": {
      "text/html": [
       "<iframe id=\"igraph\" scrolling=\"no\" style=\"border:none;\" seamless=\"seamless\" src=\"https://plot.ly/~DhanashreePokale/22.embed\" height=\"396px\" width=\"576px\"></iframe>"
      ],
      "text/plain": [
       "<plotly.tools.PlotlyDisplay object>"
      ]
     },
     "execution_count": 74,
     "metadata": {},
     "output_type": "execute_result"
    }
   ],
   "source": [
    "import plotly\n",
    "plotly.__version__\n",
    "import plotly.plotly as py\n",
    "import plotly.tools as tls\n",
    "\n",
    "import pylab as plt\n",
    "\n",
    "fig = plt.figure()\n",
    "\n",
    "tillamook = [0.0571, 0.0813, 0.0831, 0.0976, 0.0817, 0.0859, 0.0735, 0.0659, 0.0923, 0.0836]\n",
    "newport = [0.0873, 0.0662, 0.0672, 0.0819, 0.0749, 0.0649, 0.0835,0.0725]\n",
    "petersburg = [0.0974, 0.1352, 0.0817, 0.1016, 0.0968, 0.1064, 0.105]\n",
    "magadan = [0.1033, 0.0915, 0.0781, 0.0685, 0.0677, 0.0697, 0.0764,0.0689]\n",
    "tvarminne = [0.0703, 0.1026, 0.0956, 0.0973, 0.1039, 0.1045]\n",
    "\n",
    "n, bins, patches = plt.hist([tillamook,newport,petersburg,magadan,tvarminne])\n",
    "plt.hist(tillamook, bins, alpha=0.5)\n",
    "plt.hist(newport, bins, alpha=0.5)\n",
    "plt.hist(petersburg, bins, alpha=0.5)\n",
    "plt.hist(magadan, bins, alpha=0.5)\n",
    "plt.hist(tvarminne, bins, alpha=0.5)\n",
    "\n",
    "plotly_fig = tls.mpl_to_plotly( fig )\n",
    "py.iplot(plotly_fig, filename='mpl-multi-histogram')"
   ]
  },
  {
   "cell_type": "code",
   "execution_count": 75,
   "metadata": {
    "collapsed": false
   },
   "outputs": [
    {
     "data": {
      "text/plain": [
       "F_onewayResult(statistic=7.1210194716424473, pvalue=0.00028122423145345439)"
      ]
     },
     "execution_count": 75,
     "metadata": {},
     "output_type": "execute_result"
    }
   ],
   "source": [
    "stats.f_oneway(tillamook, newport, petersburg, magadan, tvarminne)"
   ]
  },
  {
   "cell_type": "markdown",
   "metadata": {},
   "source": [
    "p value is very small that means probability that all samples' have equal means is low - so we can reject the null hypothesis that all samples are equal using this f test. To determine which sample is different we perform Tukey test next."
   ]
  },
  {
   "cell_type": "code",
   "execution_count": 106,
   "metadata": {
    "collapsed": false
   },
   "outputs": [
    {
     "name": "stdout",
     "output_type": "stream",
     "text": [
      "  Multiple Comparison of Means - Tukey HSD,FWER=0.05 \n",
      "=====================================================\n",
      "  group1     group2   meandiff  lower   upper  reject\n",
      "-----------------------------------------------------\n",
      " magadan    newport   -0.0032  -0.0213  0.0149 False \n",
      " magadan   petersburg  0.0254   0.0067  0.0442  True \n",
      " magadan   tillamook   0.0022   -0.015  0.0194 False \n",
      " magadan   tvarminne   0.0177  -0.0019  0.0373 False \n",
      " newport   petersburg  0.0286   0.0099  0.0474  True \n",
      " newport   tillamook   0.0054  -0.0118  0.0226 False \n",
      " newport   tvarminne   0.0209   0.0013  0.0405  True \n",
      "petersburg tillamook  -0.0232  -0.0411 -0.0054  True \n",
      "petersburg tvarminne  -0.0077  -0.0279  0.0124 False \n",
      "tillamook  tvarminne   0.0155  -0.0032  0.0342 False \n",
      "-----------------------------------------------------\n"
     ]
    }
   ],
   "source": [
    "v = np.concatenate([tillamook, newport, petersburg, magadan, tvarminne])\n",
    "\n",
    "labels = ['tillamook']*len(tillamook) +['newport']*len(newport) + ['petersburg']*len(petersburg) + ['magadan']*len(magadan) +['tvarminne']*len(tvarminne)\n",
    "\n",
    "tukey_results = pairwise_tukeyhsd(v,labels,0.05)\n",
    "print(tukey_results)"
   ]
  },
  {
   "cell_type": "markdown",
   "metadata": {},
   "source": [
    "magadan & newport are different from petersburg; newport & tvarminne and\n",
    "petersburg & tillamook are also different from each other."
   ]
  },
  {
   "cell_type": "markdown",
   "metadata": {},
   "source": [
    "## ANOVA & Tukey Test"
   ]
  },
  {
   "cell_type": "code",
   "execution_count": 87,
   "metadata": {
    "collapsed": false
   },
   "outputs": [
    {
     "data": {
      "text/plain": [
       "count    15.000000\n",
       "mean      3.466667\n",
       "std       1.767430\n",
       "min       1.000000\n",
       "25%       2.000000\n",
       "50%       3.000000\n",
       "75%       4.500000\n",
       "max       7.000000\n",
       "Name: libido, dtype: float64"
      ]
     },
     "execution_count": 87,
     "metadata": {},
     "output_type": "execute_result"
    }
   ],
   "source": [
    "import pandas as pd\n",
    "import scipy.stats as stats\n",
    "\n",
    "import statsmodels.api as sm\n",
    "from statsmodels.formula.api import ols\n",
    "    \n",
    "import matplotlib.pyplot as plt\n",
    "\n",
    "# Loading data\n",
    "df = pd.read_csv(\"https://raw.githubusercontent.com/Opensourcefordatascience/Data-sets/master/difficile.csv\")\n",
    "df.drop('person', axis= 1, inplace= True)\n",
    "\n",
    "# Recoding value from numeric to string\n",
    "df['dose'].replace({1: 'placebo', 2: 'low', 3: 'high'}, inplace= True)\n",
    "    \n",
    "# Gettin summary statistics\n",
    "(df['libido']).describe()"
   ]
  },
  {
   "cell_type": "code",
   "execution_count": 88,
   "metadata": {
    "collapsed": false
   },
   "outputs": [
    {
     "data": {
      "text/plain": [
       "dose          \n",
       "high     count    5.000000\n",
       "         mean     5.000000\n",
       "         std      1.581139\n",
       "         min      3.000000\n",
       "         25%      4.000000\n",
       "         50%      5.000000\n",
       "         75%      6.000000\n",
       "         max      7.000000\n",
       "low      count    5.000000\n",
       "         mean     3.200000\n",
       "         std      1.303840\n",
       "         min      2.000000\n",
       "         25%      2.000000\n",
       "         50%      3.000000\n",
       "         75%      4.000000\n",
       "         max      5.000000\n",
       "placebo  count    5.000000\n",
       "         mean     2.200000\n",
       "         std      1.303840\n",
       "         min      1.000000\n",
       "         25%      1.000000\n",
       "         50%      2.000000\n",
       "         75%      3.000000\n",
       "         max      4.000000\n",
       "Name: libido, dtype: float64"
      ]
     },
     "execution_count": 88,
     "metadata": {},
     "output_type": "execute_result"
    }
   ],
   "source": [
    "(df['libido'].groupby(df['dose'])).describe()"
   ]
  },
  {
   "cell_type": "code",
   "execution_count": 91,
   "metadata": {
    "collapsed": false
   },
   "outputs": [
    {
     "data": {
      "text/plain": [
       "F_onewayResult(statistic=5.1186440677966099, pvalue=0.024694289538222603)"
      ]
     },
     "execution_count": 91,
     "metadata": {},
     "output_type": "execute_result"
    }
   ],
   "source": [
    "stats.f_oneway(df['libido'][df['dose'] == 'high'], \n",
    "             df['libido'][df['dose'] == 'low'],\n",
    "             df['libido'][df['dose'] == 'placebo'])"
   ]
  },
  {
   "cell_type": "markdown",
   "metadata": {},
   "source": [
    "The F-statistic= 5.119 and the p-value= 0.025 which is indicating that there is an overall significant effect of medication on libido. However, we don’t know where the difference between dosing/groups is yet. "
   ]
  },
  {
   "cell_type": "code",
   "execution_count": 92,
   "metadata": {
    "collapsed": false
   },
   "outputs": [
    {
     "name": "stdout",
     "output_type": "stream",
     "text": [
      "Multiple Comparison of Means - Tukey HSD,FWER=0.05\n",
      "==============================================\n",
      "group1  group2 meandiff  lower   upper  reject\n",
      "----------------------------------------------\n",
      " high    low     -1.8   -4.1651  0.5651 False \n",
      " high  placebo   -2.8   -5.1651 -0.4349  True \n",
      " low   placebo   -1.0   -3.3651  1.3651 False \n",
      "----------------------------------------------\n"
     ]
    }
   ],
   "source": [
    "from statsmodels.stats.multicomp import pairwise_tukeyhsd\n",
    "from statsmodels.stats.multicomp import MultiComparison\n",
    "\n",
    "mc = MultiComparison(df['libido'], df['dose'])\n",
    "mc_results = mc.tukeyhsd()\n",
    "print(mc_results)"
   ]
  },
  {
   "cell_type": "markdown",
   "metadata": {},
   "source": [
    "Placebo is different from high dose.\n",
    "\n",
    "The Tukey HSD post-hoc comparison test controls for type I error and maintains the familywise error rate at 0.05 (FWER= 0.05 top of the table). The group1 and group2 columns are the groups being compared, the meandiff column is the difference in means of the two groups being calculated as group2 – group1, the lower/upper columns are the lower/upper boundaries of the 95% confidence interval, and the reject column states whether or not the null hypothesis should be rejected. "
   ]
  },
  {
   "cell_type": "markdown",
   "metadata": {},
   "source": [
    "If we want to determine the tstatistic and p value for the difference in the groups, we need to first determine the cut off or corrected p value. \n",
    "\n",
    "### Bonferroni Correction comparison\n",
    "\n",
    "The corrected p-value can be calculated using the formula:\n",
    "p-value/# of comparison\n",
    "\n",
    "In this case it would be: 0.05/3 = 0.01667\n",
    "\n",
    "Now the t-tests that are conducted should have a p-value less than 0.01667 in order to be considered significant."
   ]
  },
  {
   "cell_type": "code",
   "execution_count": 98,
   "metadata": {
    "collapsed": false
   },
   "outputs": [
    {
     "data": {
      "text/plain": [
       "Ttest_indResult(statistic=1.963961012123931, pvalue=0.08513507177899203)"
      ]
     },
     "execution_count": 98,
     "metadata": {},
     "output_type": "execute_result"
    }
   ],
   "source": [
    "stats.ttest_ind(df['libido'][df['dose'] == 'high'], df['libido'][df['dose'] == 'low'])"
   ]
  },
  {
   "cell_type": "code",
   "execution_count": 99,
   "metadata": {
    "collapsed": false
   },
   "outputs": [
    {
     "data": {
      "text/plain": [
       "Ttest_indResult(statistic=1.2126781251816647, pvalue=0.25984504521378449)"
      ]
     },
     "execution_count": 99,
     "metadata": {},
     "output_type": "execute_result"
    }
   ],
   "source": [
    "stats.ttest_ind(df['libido'][df['dose'] == 'low'], df['libido'][df['dose'] == 'placebo'])"
   ]
  },
  {
   "cell_type": "code",
   "execution_count": 100,
   "metadata": {
    "collapsed": false
   },
   "outputs": [
    {
     "data": {
      "text/plain": [
       "Ttest_indResult(statistic=3.0550504633038926, pvalue=0.015700141250047695)"
      ]
     },
     "execution_count": 100,
     "metadata": {},
     "output_type": "execute_result"
    }
   ],
   "source": [
    "stats.ttest_ind(df['libido'][df['dose'] == 'high'], df['libido'][df['dose'] == 'placebo'])"
   ]
  },
  {
   "cell_type": "markdown",
   "metadata": {},
   "source": [
    "Using the Bonferroni correction, only the difference between the high dose and placebo groups are significantly different. "
   ]
  },
  {
   "cell_type": "markdown",
   "metadata": {},
   "source": [
    "#### Check assumptions:\n",
    "##### Assumption1 : Homogeneity of Variance"
   ]
  },
  {
   "cell_type": "code",
   "execution_count": 93,
   "metadata": {
    "collapsed": false
   },
   "outputs": [
    {
     "data": {
      "text/plain": [
       "LeveneResult(statistic=0.11764705882352934, pvalue=0.8900225182757423)"
      ]
     },
     "execution_count": 93,
     "metadata": {},
     "output_type": "execute_result"
    }
   ],
   "source": [
    "stats.levene(df['libido'][df['dose'] == 'placebo'],\n",
    "             df['libido'][df['dose'] == 'low'],\n",
    "             df['libido'][df['dose'] == 'high'])"
   ]
  },
  {
   "cell_type": "markdown",
   "metadata": {},
   "source": [
    "Reference: https://pythonfordatascience.org/anova-python/"
   ]
  },
  {
   "cell_type": "markdown",
   "metadata": {},
   "source": [
    "Levene’s test for homogeneity of variance is not significant which indicates that the groups have equal variances."
   ]
  },
  {
   "cell_type": "markdown",
   "metadata": {},
   "source": [
    "##### Assumption2 : Normality"
   ]
  },
  {
   "cell_type": "code",
   "execution_count": 97,
   "metadata": {
    "collapsed": false
   },
   "outputs": [
    {
     "name": "stderr",
     "output_type": "stream",
     "text": [
      "/Users/dhanashreepokale/anaconda/lib/python3.6/site-packages/scipy/stats/stats.py:1327: UserWarning:\n",
      "\n",
      "kurtosistest only valid for n>=20 ... continuing anyway, n=15\n",
      "\n"
     ]
    },
    {
     "data": {
      "text/plain": [
       "(0.916691780090332, 0.1714704930782318)"
      ]
     },
     "execution_count": 97,
     "metadata": {},
     "output_type": "execute_result"
    }
   ],
   "source": [
    "results = ols('libido ~ C(dose)', data=df).fit()\n",
    "results.summary()\n",
    "stats.shapiro(results.resid)"
   ]
  },
  {
   "cell_type": "markdown",
   "metadata": {},
   "source": [
    "The results from the Shapiro-Wilk test is not statistically significant which indicates that the residuals are normally distributed."
   ]
  }
 ],
 "metadata": {
  "kernelspec": {
   "display_name": "Python 3",
   "language": "python",
   "name": "python3"
  },
  "language_info": {
   "codemirror_mode": {
    "name": "ipython",
    "version": 3
   },
   "file_extension": ".py",
   "mimetype": "text/x-python",
   "name": "python",
   "nbconvert_exporter": "python",
   "pygments_lexer": "ipython3",
   "version": "3.6.0"
  }
 },
 "nbformat": 4,
 "nbformat_minor": 2
}
